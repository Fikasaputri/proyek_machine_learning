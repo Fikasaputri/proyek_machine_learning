{
  "nbformat": 4,
  "nbformat_minor": 0,
  "metadata": {
    "colab": {
      "provenance": []
    },
    "kernelspec": {
      "name": "python3",
      "display_name": "Python 3"
    },
    "language_info": {
      "name": "python"
    }
  },
  "cells": [
    {
      "cell_type": "markdown",
      "source": [
        "# **1. Import Library**"
      ],
      "metadata": {
        "id": "fKADPWcFKlj3"
      }
    },
    {
      "cell_type": "code",
      "source": [
        "# from sklearn.svm import SVC\n",
        "# from sklearn.metrics import accuracy_score, classification_report, confusion_matrix\n",
        "\n",
        "import pandas as pd\n",
        "import numpy as np\n",
        "import seaborn as sns\n",
        "import matplotlib.pyplot as plt\n",
        "from sklearn.model_selection import train_test_split\n",
        "from sklearn.preprocessing import  LabelEncoder, StandardScaler, MinMaxScaler\n",
        "from sklearn.neighbors import KNeighborsClassifier\n",
        "from sklearn.ensemble import RandomForestClassifier\n",
        "from sklearn.model_selection import GridSearchCV\n",
        "from sklearn.naive_bayes import GaussianNB\n",
        "from sklearn.metrics import confusion_matrix, accuracy_score, precision_score, recall_score, f1_score\n",
        "from sklearn.model_selection import cross_val_score\n",
        "from sklearn.feature_selection import SelectKBest, f_classif"
      ],
      "metadata": {
        "id": "BlmvjLY9M4Yj"
      },
      "execution_count": 23,
      "outputs": []
    },
    {
      "cell_type": "markdown",
      "source": [
        "# **2. Memuat Dataset dari Hasil Clustering**"
      ],
      "metadata": {
        "id": "f3YIEnAFKrKL"
      }
    },
    {
      "cell_type": "code",
      "source": [
        "from os import read\n",
        "from google.colab import drive\n",
        "drive.mount('/content/drive')\n",
        "\n",
        "file_path = \"/content/drive/My Drive/dataset_ml/finally_hasil_clustering.csv\"\n",
        "df = pd.read_csv(file_path)\n",
        "df.info()"
      ],
      "metadata": {
        "id": "GHCGNTyrM5fS",
        "colab": {
          "base_uri": "https://localhost:8080/"
        },
        "outputId": "7db666c5-2239-4939-aba5-4af0dcfb948c"
      },
      "execution_count": 9,
      "outputs": [
        {
          "output_type": "stream",
          "name": "stdout",
          "text": [
            "Drive already mounted at /content/drive; to attempt to forcibly remount, call drive.mount(\"/content/drive\", force_remount=True).\n",
            "<class 'pandas.core.frame.DataFrame'>\n",
            "RangeIndex: 45360 entries, 0 to 45359\n",
            "Data columns (total 47 columns):\n",
            " #   Column                         Non-Null Count  Dtype  \n",
            "---  ------                         --------------  -----  \n",
            " 0   upah                           45360 non-null  int64  \n",
            " 1   ump                            45360 non-null  float64\n",
            " 2   gk                             45360 non-null  float64\n",
            " 3   peng                           45360 non-null  float64\n",
            " 4   Provinsi_BALI                  45360 non-null  float64\n",
            " 5   Provinsi_BANTEN                45360 non-null  float64\n",
            " 6   Provinsi_BENGKULU              45360 non-null  float64\n",
            " 7   Provinsi_DI YOGYAKARTA         45360 non-null  float64\n",
            " 8   Provinsi_DKI JAKARTA           45360 non-null  float64\n",
            " 9   Provinsi_GORONTALO             45360 non-null  float64\n",
            " 10  Provinsi_INDONESIA             45360 non-null  float64\n",
            " 11  Provinsi_JAMBI                 45360 non-null  float64\n",
            " 12  Provinsi_JAWA BARAT            45360 non-null  float64\n",
            " 13  Provinsi_JAWA TENGAH           45360 non-null  float64\n",
            " 14  Provinsi_JAWA TIMUR            45360 non-null  float64\n",
            " 15  Provinsi_KALIMANTAN BARAT      45360 non-null  float64\n",
            " 16  Provinsi_KALIMANTAN SELATAN    45360 non-null  float64\n",
            " 17  Provinsi_KALIMANTAN TENGAH     45360 non-null  float64\n",
            " 18  Provinsi_KALIMANTAN TIMUR      45360 non-null  float64\n",
            " 19  Provinsi_KALIMANTAN UTARA      45360 non-null  float64\n",
            " 20  Provinsi_KEP. BANGKA BELITUNG  45360 non-null  float64\n",
            " 21  Provinsi_KEP. RIAU             45360 non-null  float64\n",
            " 22  Provinsi_LAMPUNG               45360 non-null  float64\n",
            " 23  Provinsi_MALUKU                45360 non-null  float64\n",
            " 24  Provinsi_MALUKU UTARA          45360 non-null  float64\n",
            " 25  Provinsi_NUSA TENGGARA BARAT   45360 non-null  float64\n",
            " 26  Provinsi_NUSA TENGGARA TIMUR   45360 non-null  float64\n",
            " 27  Provinsi_PAPUA                 45360 non-null  float64\n",
            " 28  Provinsi_PAPUA BARAT           45360 non-null  float64\n",
            " 29  Provinsi_RIAU                  45360 non-null  float64\n",
            " 30  Provinsi_SULAWESI BARAT        45360 non-null  float64\n",
            " 31  Provinsi_SULAWESI SELATAN      45360 non-null  float64\n",
            " 32  Provinsi_SULAWESI TENGAH       45360 non-null  float64\n",
            " 33  Provinsi_SULAWESI TENGGARA     45360 non-null  float64\n",
            " 34  Provinsi_SULAWESI UTARA        45360 non-null  float64\n",
            " 35  Provinsi_SUMATERA BARAT        45360 non-null  float64\n",
            " 36  Provinsi_SUMATERA SELATAN      45360 non-null  float64\n",
            " 37  Provinsi_SUMATERA UTARA        45360 non-null  float64\n",
            " 38  jenis_x_NONMAKANAN             45360 non-null  float64\n",
            " 39  jenis_x_TOTAL                  45360 non-null  float64\n",
            " 40  daerah_x_PERDESAANPERKOTAAN    45360 non-null  float64\n",
            " 41  daerah_x_PERKOTAAN             45360 non-null  float64\n",
            " 42  Upah_Binned                    45360 non-null  float64\n",
            " 43  Cluster                        45360 non-null  int64  \n",
            " 44  Provinsi                       45360 non-null  object \n",
            " 45  jenis_x                        45360 non-null  object \n",
            " 46  daerah_x                       45360 non-null  object \n",
            "dtypes: float64(42), int64(2), object(3)\n",
            "memory usage: 16.3+ MB\n"
          ]
        }
      ]
    },
    {
      "cell_type": "markdown",
      "source": [
        "# **3. Data Splitting**"
      ],
      "metadata": {
        "id": "KkPem5eWL2UP"
      }
    },
    {
      "cell_type": "code",
      "source": [
        "X = df.drop(columns=['Cluster', 'Provinsi', 'jenis_x', 'daerah_x']) # menghapus kolom numerik\n",
        "y = df['Cluster']\n",
        "\n",
        "print(\"Dimensi Fitur (X):\", X.shape)\n",
        "print(\"Dimensi Targe (y):\", y.shape)\n",
        "\n",
        "# Split data\n",
        "X_train, X_test, y_train, y_test = train_test_split(X,y, test_size=0.2, random_state=42, stratify=y)\n",
        "print(\"Jumlah Data latih:\", X_train.shape[0])\n",
        "print(\"Jumlah Data latih:\", X_test.shape[0])"
      ],
      "metadata": {
        "colab": {
          "base_uri": "https://localhost:8080/"
        },
        "id": "ihvQoV9ecEcB",
        "outputId": "8ee39234-0b5e-4caa-bf2c-c966402328da"
      },
      "execution_count": 6,
      "outputs": [
        {
          "output_type": "stream",
          "name": "stdout",
          "text": [
            "Dimensi Fitur (X): (45360, 43)\n",
            "Dimensi Targe (y): (45360,)\n",
            "Jumlah Data latih: 36288\n",
            "Jumlah Data latih: 9072\n"
          ]
        }
      ]
    },
    {
      "cell_type": "markdown",
      "source": [
        "# **4. Membangun Model Klasifikasi**\n"
      ],
      "metadata": {
        "id": "IVPbB03CMhTT"
      }
    },
    {
      "cell_type": "markdown",
      "source": [
        "## **a. Membangun Model Klasifikasi**"
      ],
      "metadata": {
        "id": "Ned1pL9zMmBK"
      }
    },
    {
      "cell_type": "code",
      "source": [
        "# model random forest\n",
        "model_rf = RandomForestClassifier(random_state=42, n_estimators=100)\n",
        "model_rf.fit(X_train, y_train)\n",
        "\n",
        "# model Knn\n",
        "model_knn = KNeighborsClassifier(n_neighbors=5)\n",
        "model_knn.fit(X_train, y_train)\n",
        "\n",
        "print(\"semua moodel telah dilatih\")"
      ],
      "metadata": {
        "colab": {
          "base_uri": "https://localhost:8080/"
        },
        "id": "VVYo9B9ZcOEV",
        "outputId": "b32d03a2-827f-401d-e04d-cb19f4125f24"
      },
      "execution_count": 29,
      "outputs": [
        {
          "output_type": "stream",
          "name": "stdout",
          "text": [
            "semua moodel telah dilatih\n"
          ]
        }
      ]
    },
    {
      "cell_type": "markdown",
      "source": [
        "- Algoritma Random Forest adalah pengembangan dari Decision Tree, yang terdiri dari banyak pohon keputusan (ensemble learning).\n",
        "Setiap pohon dilatih dengan subset data yang berbeda, dan keputusan akhir diambil berdasarkan voting mayoritas dari seluruh pohon.\n",
        "Model ini lebih robust dan mengurangi overfitting, dibandingkan dengan Decision Tree tunggal.\n",
        "Parameter n_estimators=100 menunjukkan jumlah pohon yang digunakan dalam ensemble.\n",
        "\n",
        "- Algoritma KNN bekerja dengan mencari k tetangga terdekat untuk menentukan kelas dari suatu sampel.\n",
        "Algoritma ini tidak mempelajari pola selama training, tetapi menghitung jarak antar data saat prediksi dilakukan (lazy learning).\n",
        "Parameter n_neighbors=5 berarti model akan mempertimbangkan 5 tetangga terdekat untuk menentukan kelas suatu data."
      ],
      "metadata": {
        "id": "seYoHNY3XU1y"
      }
    },
    {
      "cell_type": "markdown",
      "source": [
        "## **b. Evaluasi Model Klasifikasi**"
      ],
      "metadata": {
        "id": "ergzChZFEL-O"
      }
    },
    {
      "cell_type": "code",
      "source": [
        "y_pred_rf = model_rf.predict(X_test)\n",
        "y_pred_knn = model_knn.predict(X_test)\n",
        "\n",
        "accuracy_rf = accuracy_score(y_test, y_pred_rf)\n",
        "accuracy_knn = accuracy_score(y_test, y_pred_knn)\n",
        "\n",
        "print(f\" Classification report (Random Forest):\")\n",
        "print (classification_report(y_test, y_pred_rf))\n",
        "\n",
        "print(f\" Classification report (KNN):\")\n",
        "print (classification_report(y_test, y_pred_knn))\n",
        "\n",
        "\n"
      ],
      "metadata": {
        "id": "Z2eyoOByqLyi",
        "outputId": "19294794-cb54-4f1e-f7ac-4cdb40014e19",
        "colab": {
          "base_uri": "https://localhost:8080/"
        }
      },
      "execution_count": 30,
      "outputs": [
        {
          "output_type": "stream",
          "name": "stdout",
          "text": [
            " Classification report (Random Forest):\n",
            "              precision    recall  f1-score   support\n",
            "\n",
            "           0       1.00      1.00      1.00      2009\n",
            "           1       1.00      1.00      1.00      1069\n",
            "           2       1.00      1.00      1.00      2624\n",
            "           3       1.00      1.00      1.00      3370\n",
            "\n",
            "    accuracy                           1.00      9072\n",
            "   macro avg       1.00      1.00      1.00      9072\n",
            "weighted avg       1.00      1.00      1.00      9072\n",
            "\n",
            " Classification report (KNN):\n",
            "              precision    recall  f1-score   support\n",
            "\n",
            "           0       0.86      0.87      0.86      2009\n",
            "           1       0.91      0.89      0.90      1069\n",
            "           2       0.93      0.91      0.92      2624\n",
            "           3       0.88      0.89      0.88      3370\n",
            "\n",
            "    accuracy                           0.89      9072\n",
            "   macro avg       0.89      0.89      0.89      9072\n",
            "weighted avg       0.89      0.89      0.89      9072\n",
            "\n"
          ]
        }
      ]
    },
    {
      "cell_type": "markdown",
      "source": [
        "1. Random Forest Classifier\n",
        "- **Akurasi:** 100% (1.00000)\n",
        "- **Precision, Recall, F1-score:** 100% untuk semua kelas\n",
        "- **Kelebihan:**Lebih stabil karena menggunakan ensemble learning (menggabungkan banyak pohon keputusan).\n",
        "- **Kekurangan:**Masih mengalami overfitting, seperti yang terlihat dari akurasi sempurna.\n",
        "\n",
        "2. K-Nearest Neighbors (KNN)\n",
        "- **Akurasi:** 89% (0.88955)\n",
        "- **Precision, Recall, F1-score:** Rata-rata 89%\n",
        "- **Kelebihan:**Tidak mengalami overfitting seperti  Random Forest.Lebih fleksibel dalam menangani berbagai pola data.\n",
        "- **Kekurangan:**Lebih lambat dibandingkan Random Forest, terutama pada dataset besar karena harus menghitung jarak ke semua sampel saat prediksi.\n",
        "Kinerja sangat bergantung pada pemilihan parameter jumlah tetangga (k).\n",
        "\n"
      ],
      "metadata": {
        "id": "H4_9OwrsXZlz"
      }
    },
    {
      "cell_type": "markdown",
      "source": [
        "## **c. Tuning Model Klasifikasi (Optional)**"
      ],
      "metadata": {
        "id": "ph9yIYDXEPuB"
      }
    },
    {
      "cell_type": "markdown",
      "source": [
        "Gunakan GridSearchCV, RandomizedSearchCV, atau metode lainnya untuk mencari kombinasi hyperparameter terbaik"
      ],
      "metadata": {
        "id": "-Bikx3LINv5e"
      }
    },
    {
      "cell_type": "code",
      "source": [
        "param_grid_rf = {\n",
        "    'n_estimators': [50, 100, 200],\n",
        "    'max_depth': [ 5, 10, 20],\n",
        "    'min_samples_split': [2, 5, 10],\n",
        "    'min_samples_leaf': [1, 2, 5]\n",
        "}\n",
        "grid_rf = GridSearchCV(RandomForestClassifier(random_state=42), param_grid_rf, cv=5, scoring='accuracy', n_jobs=-1)\n",
        "grid_rf.fit(X_train, y_train)\n",
        "\n",
        "\n",
        "param_grid_knn = {\n",
        "    'n_neighbors': [3, 5, 7, 10],\n",
        "    'weights': ['uniform', 'distance'],\n",
        "    'metric': ['euclidean', 'manhattan', 'minkowski']\n",
        "}\n",
        "grid_knn = GridSearchCV(KNeighborsClassifier(), param_grid_knn, cv=5, scoring='accuracy', n_jobs=-1)\n",
        "grid_knn.fit(X_train, y_train)\n",
        "\n",
        "\n",
        "print(\"parameter terbaik unutk model random forest:\", grid_rf.best_params_)\n",
        "print(\"parameter terbaik untuk model knn:\", grid_knn.best_params_)\n",
        "\n"
      ],
      "metadata": {
        "id": "winbFzb8NL95",
        "colab": {
          "base_uri": "https://localhost:8080/"
        },
        "outputId": "68364d7f-67bb-4dd0-d745-4cdf7ecfa9f5"
      },
      "execution_count": 31,
      "outputs": [
        {
          "output_type": "stream",
          "name": "stdout",
          "text": [
            "parameter terbaik unutk model random forest: {'max_depth': 10, 'min_samples_leaf': 1, 'min_samples_split': 2, 'n_estimators': 50}\n",
            "parameter terbaik untuk model knn: {'metric': 'manhattan', 'n_neighbors': 3, 'weights': 'distance'}\n"
          ]
        }
      ]
    },
    {
      "cell_type": "markdown",
      "source": [
        "## **d. Evaluasi Model Klasifikasi setelah Tuning (Optional)**"
      ],
      "metadata": {
        "id": "hE7pqlEPEYzI"
      }
    },
    {
      "cell_type": "code",
      "source": [
        "best_rf = grid_rf.best_estimator_\n",
        "best_knn = grid_knn.best_estimator_\n",
        "\n",
        "y_pred_rf_best = best_rf.predict(X_test)\n",
        "y_pred_knn_best = best_knn.predict(X_test)\n",
        "\n",
        "accuracy_rf_best = accuracy_score(y_test, y_pred_rf_best)\n",
        "accuracy_knn_best = accuracy_score(y_test, y_pred_knn_best)\n",
        "\n",
        "print(f\"Hasil Evaluasi setelah tuning\")\n",
        "print(f\" Random Forest: {accuracy_rf_best:.5f} | knn: {accuracy_knn_best:.5f}\\n\")\n",
        "\n",
        "for model_name, y_pred in zip([\"Random Forest\", \"KNN\"],\n",
        "                              [y_pred_rf_best, y_pred_knn_best]):\n",
        "  print (f\"Classification report ({model_name} - Tuned):\\n{classification_report(y_test, y_pred)}\\n\")"
      ],
      "metadata": {
        "colab": {
          "base_uri": "https://localhost:8080/"
        },
        "id": "5sv47tJevK7S",
        "outputId": "c13d5741-0abe-48e9-bb40-963b8e5a13f4"
      },
      "execution_count": 32,
      "outputs": [
        {
          "output_type": "stream",
          "name": "stdout",
          "text": [
            "Hasil Evaluasi setelah tuning\n",
            " Random Forest: 1.00000 | knn: 0.98280\n",
            "\n",
            "Classification report (Random Forest - Tuned):\n",
            "              precision    recall  f1-score   support\n",
            "\n",
            "           0       1.00      1.00      1.00      2009\n",
            "           1       1.00      1.00      1.00      1069\n",
            "           2       1.00      1.00      1.00      2624\n",
            "           3       1.00      1.00      1.00      3370\n",
            "\n",
            "    accuracy                           1.00      9072\n",
            "   macro avg       1.00      1.00      1.00      9072\n",
            "weighted avg       1.00      1.00      1.00      9072\n",
            "\n",
            "\n",
            "Classification report (KNN - Tuned):\n",
            "              precision    recall  f1-score   support\n",
            "\n",
            "           0       0.98      0.98      0.98      2009\n",
            "           1       0.99      0.99      0.99      1069\n",
            "           2       0.99      0.99      0.99      2624\n",
            "           3       0.98      0.98      0.98      3370\n",
            "\n",
            "    accuracy                           0.98      9072\n",
            "   macro avg       0.98      0.98      0.98      9072\n",
            "weighted avg       0.98      0.98      0.98      9072\n",
            "\n",
            "\n"
          ]
        }
      ]
    },
    {
      "cell_type": "code",
      "source": [
        "# Pilih fitur terbaik berdasarkan skor ANOVA F-test\n",
        "selector = SelectKBest(f_classif, k=5)\n",
        "X_train_new = selector.fit_transform(X_train, y_train)\n",
        "X_test_new = selector.transform(X_test)\n",
        "\n",
        "print(\"fitur terpilih:\", X.columns[selector.get_support()])"
      ],
      "metadata": {
        "colab": {
          "base_uri": "https://localhost:8080/"
        },
        "id": "EYHocPNL6EBF",
        "outputId": "c1421cd9-1655-46de-d443-b26c20b2f221"
      },
      "execution_count": 33,
      "outputs": [
        {
          "output_type": "stream",
          "name": "stdout",
          "text": [
            "fitur terpilih: Index(['upah', 'ump', 'Provinsi_DKI JAKARTA', 'Provinsi_PAPUA', 'Upah_Binned'], dtype='object')\n"
          ]
        }
      ]
    },
    {
      "cell_type": "code",
      "source": [
        "best_rf = RandomForestClassifier(n_estimators=50, max_depth=5, min_samples_leaf=5, random_state=42)\n",
        "best_rf.fit(X_train, y_train)\n",
        "\n",
        "best_knn = KNeighborsClassifier(n_neighbors=3, weights='uniform', metric='manhattan')\n",
        "best_knn.fit(X_train, y_train)\n",
        "\n",
        "cv_score_rf = cross_val_score(best_rf, X_train, y_train, cv=5, scoring='accuracy')\n",
        "cv_score_knn = cross_val_score(best_knn, X_train, y_train, cv=5, scoring='accuracy')\n",
        "\n",
        "print(f\"Cross-Validation Accuracy (Random Forest - Tuned): {cv_score_rf.mean():.4f}\")\n",
        "print(f\"Cross-Validation Accuracy (KNN - Tuned): {cv_score_knn.mean():.4f}\")"
      ],
      "metadata": {
        "colab": {
          "base_uri": "https://localhost:8080/"
        },
        "id": "LXS6hZyu5_Zv",
        "outputId": "b1a2c889-743c-4573-d083-abf4804f7416"
      },
      "execution_count": 37,
      "outputs": [
        {
          "output_type": "stream",
          "name": "stdout",
          "text": [
            "Cross-Validation Accuracy (Random Forest - Tuned): 0.9406\n",
            "Cross-Validation Accuracy (KNN - Tuned): 0.9529\n"
          ]
        }
      ]
    },
    {
      "cell_type": "markdown",
      "source": [
        "## **e. Analisis Hasil Evaluasi Model Klasifikasi**"
      ],
      "metadata": {
        "id": "ZRsOdm4uEgAW"
      }
    },
    {
      "cell_type": "markdown",
      "source": [
        "1. **Perbandingan Hasil Evaluasi sebelum dan sesudah setelah tuning**\n",
        "\n",
        "##**Model: Random Forest**\n",
        "- Akurasi Sebelum Tuning: 100%\n",
        "- Akurasi Setelah Tuning: 94.06%\n",
        "- Random Forest mengalami penurunan akurasi dari 100% ke 94.06%, yang berarti model menjadi lebih generalizable dan tidak terlalu overfitting terhadap data pelatihan.\n",
        "- Kelemahan:\n",
        " Performa lebih lambat dibandingkan Decision Tree karena menggunakan banyak pohon dalam prediksi.\n",
        " Meskipun lebih baik dalam mengurangi overfitting, model ini masih memiliki potensi peningkatan akurasi.\n",
        "\n",
        "**Rekomendasi Tindakan lanjutan**\n",
        "- Tambahkan lebih banyak n_estimators untuk meningkatkan stabilitas dan akurasi model.\n",
        "- Eksperimen dengan metode boosting seperti AdaBoost atau Gradient Boosting untuk hasil yang lebih baik.\n",
        "\n",
        "##**Model: KNN**\n",
        "- Akurasi Sebelum Tuning: 98.28%\n",
        "- Akurasi Setelah Tuning: 95.29%\n",
        "- Akurasi KNN mengalami sedikit penurunan dari 98.28% ke 95.29%, tetapi masih cukup tinggi. Ini menunjukkan bahwa model masih cukup baik dalam memprediksi data uji meskipun telah disesuaikan parameternya.\n",
        "- kelemahan:Kinerja menurun pada dataset besar, karena KNN membutuhkan waktu lebih lama untuk menghitung jarak antar data saat prediksi.\n",
        "Sensitif terhadap skala fitur, sehingga normalisasi sangat diperlukan.\n",
        "\n",
        "**Rekomendasi Tindakan Lanjutan:**\n",
        "- Eksperimen dengan jumlah tetangga (n_neighbors) yang lebih besar atau lebih kecil.\n",
        "- Coba metrik jarak yang berbeda seperti manhattan atau cosine similarity.\n",
        "Gunakan KD-Tree atau Ball-Tree untuk mempercepat perhitungan pada dataset besar.\n",
        "\n",
        "\n"
      ],
      "metadata": {
        "id": "Hm3BhSi6N4_l"
      }
    }
  ]
}